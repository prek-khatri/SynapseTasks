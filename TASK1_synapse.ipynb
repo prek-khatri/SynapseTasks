{
  "nbformat": 4,
  "nbformat_minor": 0,
  "metadata": {
    "colab": {
      "name": "TASK1 synapse.ipynb",
      "provenance": []
    },
    "kernelspec": {
      "name": "python3",
      "display_name": "Python 3"
    },
    "language_info": {
      "name": "python"
    }
  },
  "cells": [
    {
      "cell_type": "code",
      "metadata": {
        "colab": {
          "base_uri": "https://localhost:8080/",
          "height": 235
        },
        "id": "XOTBsupE_PFm",
        "outputId": "929e862a-3b5f-4f72-9e04-36a8613ceb27"
      },
      "source": [
        "#importing opencv-python to cv2 module\n",
        "import cv2\n",
        "\n",
        "#read the image\n",
        "image= cv2.imread('/content/Containers.png')\n",
        "original_image= image\n",
        "\n",
        "gray= cv2.cvtColor(image,cv2.COLOR_BGR2GRAY)\n",
        "\n",
        "edges= cv2.Canny(gray, 50,200)\n",
        "\n",
        "contours, hierarchy= cv2.findContours(edges.copy(), cv2.RETR_EXTERNAL, cv2.CHAIN_APPROX_NONE)\n",
        "\n",
        "\n",
        "cv2.destroyAllWindows()\n",
        "\n",
        "\n",
        "def get_contour_areas(contours):\n",
        "\n",
        "    all_areas= []\n",
        "\n",
        "    for cnt in contours:\n",
        "        area= cv2.contourArea(cnt)\n",
        "        all_areas.append(area)\n",
        "\n",
        "    return all_areas\n",
        "\n",
        "\n",
        "sorted_contours= sorted(contours, key=cv2.contourArea, reverse= True)\n",
        "\n",
        "\n",
        "largest_item= sorted_contours[0]\n",
        "\n",
        "cv2.drawContours(original_image, largest_item, -1, (255,0,0),10)\n",
        "from google.colab.patches import cv2_imshow\n",
        "cv2_imshow(original_image)\n",
        "\n",
        "\n",
        "cv2.waitKey(0)\n",
        "cv2.destroyAllWindows()"
      ],
      "execution_count": 11,
      "outputs": [
        {
          "output_type": "display_data",
          "data": {
            "image/png": "[encoded data removed]",
            "text/plain": [
              "<PIL.Image.Image image mode=RGB size=512x218 at 0x7F59D9FAFC50>"
            ]
          },
          "metadata": {}
        }
      ]
    }
  ]
}